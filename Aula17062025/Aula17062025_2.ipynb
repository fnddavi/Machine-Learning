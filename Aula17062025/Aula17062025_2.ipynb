{
  "cells": [
    {
      "cell_type": "code",
      "execution_count": null,
      "metadata": {},
      "outputs": [],
      "source": [
        "# Classificação do conjunto MINST com aprendizado ensemble:\n",
        "#a) Dividir o conjunto de dados em treinamento e teste.\n",
        "#b) Treinar vários classificadores: floresta aleatória e SVM.\n",
        "#c) Combinar os classificadores em um agrupamento\n",
        "#d) Comparar os resultados com o conjunto de dados de teste.\n"
      ]
    }
  ],
  "metadata": {
    "colab": {
      "provenance": []
    },
    "kernelspec": {
      "display_name": ".venv",
      "language": "python",
      "name": "python3"
    },
    "language_info": {
      "codemirror_mode": {
        "name": "ipython",
        "version": 3
      },
      "file_extension": ".py",
      "mimetype": "text/x-python",
      "name": "python",
      "nbconvert_exporter": "python",
      "pygments_lexer": "ipython3",
      "version": "3.12.3"
    }
  },
  "nbformat": 4,
  "nbformat_minor": 0
}
