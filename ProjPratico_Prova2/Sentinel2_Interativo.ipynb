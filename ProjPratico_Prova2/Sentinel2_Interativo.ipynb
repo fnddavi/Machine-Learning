{
 "cells": [
  {
   "cell_type": "markdown",
   "id": "fb74f487",
   "metadata": {},
   "source": [
    "# 🛰️ Classificação de Uso do Solo com Imagens Sentinel-2\n",
    "Este notebook demonstra, de forma interativa, o pipeline completo de classificação do uso do solo com base em imagens Sentinel-2."
   ]
  },
  {
   "cell_type": "markdown",
   "id": "50bab35e",
   "metadata": {},
   "source": [
    "## 🔧 Configuração do Ambiente\n",
    "Importação de bibliotecas e módulos locais."
   ]
  },
  {
   "cell_type": "code",
   "execution_count": null,
   "id": "2abf2a2d",
   "metadata": {},
   "outputs": [],
   "source": [
    "import os\n",
    "import sys\n",
    "import numpy as np\n",
    "import matplotlib.pyplot as plt\n",
    "import psutil\n",
    "import gc\n",
    "\n",
    "# Verificar uso de memória\n",
    "def check_memory():\n",
    "    \"\"\"Verifica o uso atual de memória\"\"\"\n",
    "    process = psutil.Process(os.getpid())\n",
    "    mem_info = process.memory_info()\n",
    "    print(f\"🧠 Uso de memória: {mem_info.rss / 1024 / 1024:.1f} MB\")\n",
    "    print(f\"💾 Memória disponível: {psutil.virtual_memory().available / 1024 / 1024:.1f} MB\")\n",
    "\n",
    "print(\"🔧 Configurando ambiente...\")\n",
    "check_memory()\n",
    "\n",
    "# Importar módulos com tratamento de erros\n",
    "try:\n",
    "    from data_loader import SentinelDataLoader\n",
    "    print(\"✅ data_loader importado com sucesso\")\n",
    "except Exception as e:\n",
    "    print(f\"❌ Erro ao importar data_loader: {e}\")\n",
    "    sys.exit(1)\n",
    "\n",
    "try:\n",
    "    from ml_models import MLModels\n",
    "    print(\"✅ ml_models importado com sucesso\")\n",
    "except Exception as e:\n",
    "    print(f\"❌ Erro ao importar ml_models: {e}\")\n",
    "\n",
    "try:\n",
    "    from hyperparameter_optimization import HyperparameterOptimizer\n",
    "    print(\"✅ hyperparameter_optimization importado com sucesso\")\n",
    "except Exception as e:\n",
    "    print(f\"❌ Erro ao importar hyperparameter_optimization: {e}\")\n",
    "\n",
    "print(\"🚀 Importações concluídas!\")\n"
   ]
  },
  {
   "cell_type": "markdown",
   "id": "33316ed1",
   "metadata": {},
   "source": [
    "## 📥 Carregamento e Pré-processamento de Dados"
   ]
  },
  {
   "cell_type": "code",
   "execution_count": null,
   "id": "310b6f15",
   "metadata": {},
   "outputs": [],
   "source": [
    "\n",
    "print(\"📥 Iniciando carregamento de dados...\")\n",
    "check_memory()\n",
    "\n",
    "try:\n",
    "    loader = SentinelDataLoader(data_dir='ImagensSentinel-2')\n",
    "    print(\"✅ SentinelDataLoader inicializado\")\n",
    "except Exception as e:\n",
    "    print(f\"❌ Erro ao inicializar loader: {e}\")\n",
    "    raise\n",
    "\n",
    "try:\n",
    "    print(\"🔄 Carregando bandas B02, B03, B04...\")\n",
    "    loader.bands = {}\n",
    "    for band in [\"B02\", \"B03\", \"B04\"]:\n",
    "        loader.bands[band] = loader.load_band(band)\n",
    "        check_memory()\n",
    "\n",
    "    gc.collect()\n",
    "\n",
    "    print(\"🔄 Carregando SCL...\")\n",
    "    loader.load_scl()\n",
    "    check_memory()\n",
    "\n",
    "except MemoryError:\n",
    "    print(\"❌ Erro de memória! Tentando limpeza...\")\n",
    "    gc.collect()\n",
    "    check_memory()\n",
    "    raise\n",
    "except Exception as e:\n",
    "    print(f\"❌ Erro no carregamento: {e}\")\n",
    "    raise\n",
    "\n",
    "N_SAMPLES = 50\n",
    "print(f\"🔄 Amostrando {N_SAMPLES} dados...\")\n",
    "\n",
    "try:\n",
    "    features, targets = loader.sample_data(n_samples=N_SAMPLES)\n",
    "    print(f\"✅ Dados amostrados: {features.shape[0]} amostras, {features.shape[1]} features\")\n",
    "\n",
    "    X_train, X_val, X_test, y_train, y_val, y_test = loader.split_data(features, targets)\n",
    "\n",
    "    print(\"📊 Divisão dos dados:\")\n",
    "    print(f\"   Treino: {len(X_train)} amostras\")\n",
    "    print(f\"   Validação: {len(X_val)} amostras\")\n",
    "    print(f\"   Teste: {len(X_test)} amostras\")\n",
    "\n",
    "    train_dist = loader.get_class_distribution(y_train)\n",
    "    print(f\"📈 Distribuição das classes (treino):\")\n",
    "    for classe, count in train_dist.items():\n",
    "        print(f\"   {classe}: {count} ({(count / len(y_train)) * 100:.1f}%)\")\n",
    "\n",
    "    check_memory()\n",
    "\n",
    "except Exception as e:\n",
    "    print(f\"❌ Erro na amostragem: {e}\")\n",
    "    raise\n",
    "\n",
    "print(\"✅ Carregamento concluído com sucesso!\")\n"
   ]
  },
  {
   "cell_type": "markdown",
   "id": "d8889ca9",
   "metadata": {},
   "source": [
    "## 📊 Visualização das Bandas RGB e Máscara SCL"
   ]
  },
  {
   "cell_type": "code",
   "execution_count": null,
   "id": "e19220d6",
   "metadata": {},
   "outputs": [],
   "source": [
    "\n",
    "print(\"📊 Iniciando visualizações...\")\n",
    "\n",
    "try:\n",
    "    print(\"🔄 Criando composição RGB...\")\n",
    "    loader.visualize_rgb()\n",
    "    print(\"✅ RGB visualizado\")\n",
    "except Exception as e:\n",
    "    print(f\"⚠️ Erro na visualização RGB: {e}\")\n",
    "\n",
    "gc.collect()\n",
    "check_memory()\n",
    "\n",
    "try:\n",
    "    print(\"🔄 Visualizando SCL...\")\n",
    "    loader.visualize_scl()\n",
    "    print(\"✅ SCL visualizado\")\n",
    "except Exception as e:\n",
    "    print(f\"⚠️ Erro na visualização SCL: {e}\")\n",
    "\n",
    "gc.collect()\n",
    "check_memory()\n",
    "print(\"✅ Visualizações concluídas!\")\n"
   ]
  },
  {
   "cell_type": "markdown",
   "id": "3f105db4",
   "metadata": {},
   "source": [
    "## 🤖 Treinamento dos Modelos de Machine Learning"
   ]
  },
  {
   "cell_type": "code",
   "execution_count": null,
   "id": "92817c78",
   "metadata": {},
   "outputs": [],
   "source": [
    "\n",
    "ml_models = MLModels()\n",
    "ml_models.add_random_forest()\n",
    "ml_models.add_svm()\n",
    "ml_models.add_neural_network()\n",
    "ml_models.train_all_models(X_train, y_train, X_val, y_val)\n"
   ]
  },
  {
   "cell_type": "markdown",
   "id": "99139544",
   "metadata": {},
   "source": [
    "## 🧪 Avaliação dos Modelos no Conjunto de Teste"
   ]
  },
  {
   "cell_type": "code",
   "execution_count": null,
   "id": "30a220bf",
   "metadata": {},
   "outputs": [],
   "source": [
    "\n",
    "for model_name in ml_models.models.keys():\n",
    "    ml_models.evaluate_model(model_name, X_test, y_test)\n"
   ]
  },
  {
   "cell_type": "markdown",
   "id": "4477909d",
   "metadata": {},
   "source": [
    "## 🔬 Otimização de Hiperparâmetros (opcional e demorado)"
   ]
  },
  {
   "cell_type": "code",
   "execution_count": null,
   "id": "b691daf0",
   "metadata": {},
   "outputs": [],
   "source": [
    "\n",
    "# ⚠️ Cuidado: esta etapa é demorada\n",
    "# optimizer = HyperparameterOptimizer(cv=3)\n",
    "# optimized_models = optimizer.optimize_all_models(X_train, y_train)\n",
    "# optimizer.compare_optimization_results()\n"
   ]
  },
  {
   "cell_type": "markdown",
   "id": "3907a088",
   "metadata": {},
   "source": [
    "## ✅ Conclusão\n",
    "Este notebook mostra o processo completo de leitura, visualização, treinamento e avaliação do modelo."
   ]
  }
 ],
 "metadata": {
  "kernelspec": {
   "display_name": "venv",
   "language": "python",
   "name": "python3"
  },
  "language_info": {
   "codemirror_mode": {
    "name": "ipython",
    "version": 3
   },
   "file_extension": ".py",
   "mimetype": "text/x-python",
   "name": "python",
   "nbconvert_exporter": "python",
   "pygments_lexer": "ipython3",
   "version": "3.12.3"
  }
 },
 "nbformat": 4,
 "nbformat_minor": 5
}
