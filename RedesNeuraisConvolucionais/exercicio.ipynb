{
 "cells": [
  {
   "cell_type": "markdown",
   "id": "a207420a",
   "metadata": {},
   "source": [
    "### Redes Neurais Convolucionais\n",
    "\n",
    "Criar um classificador utilizando uma rede neural convolucional para o conjunto de dados de caracteres MINST:\n",
    "\n",
    "    A- Dividir o conjunto de dados em treinamento, validação e teste.\n",
    "\n",
    "    B- O exercício deve ser entregue com o código fonte em Python utilizado para treinamento e teste da rede, bem como com as informações dos melhores hiperparêmetros utilizados e as métricas de desempenho obtidas. Os gráficos contendo as curvas de aprendizado também deverão ser disponibilizados.\n",
    "\n",
    "    Dicas:\n",
    "\n",
    "    a. exemplo de carregamento do conjunto de dados MINST pode ser consultado no script \"ClassificadorBinário.ipynb\" da Aula 2.\n",
    "    b. no caso deste exercício, o classificador precisa considerar todas as classes (i.e. números 0 a 9)."
   ]
  },
  {
   "cell_type": "markdown",
   "id": "cfd4332d",
   "metadata": {},
   "source": [
    "✅ 1. Carregamento e Pré-processamento dos Dados"
   ]
  },
  {
   "cell_type": "code",
   "execution_count": null,
   "id": "2aca478e",
   "metadata": {
    "vscode": {
     "languageId": "plaintext"
    }
   },
   "outputs": [],
   "source": [
    "import tensorflow as tf\n",
    "from tensorflow.keras.datasets import mnist\n",
    "from tensorflow.keras.utils import to_categorical\n",
    "import matplotlib.pyplot as plt\n",
    "from sklearn.model_selection import train_test_split\n",
    "\n",
    "# Carregar MNIST\n",
    "(X_train, y_train), (X_test, y_test) = mnist.load_data()\n",
    "\n",
    "# Normalização\n",
    "X_train = X_train.astype('float32') / 255.0\n",
    "X_test = X_test.astype('float32') / 255.0\n",
    "\n",
    "# Redimensionar para [N, 28, 28, 1]\n",
    "X_train = X_train[..., tf.newaxis]\n",
    "X_test = X_test[..., tf.newaxis]\n",
    "\n",
    "# Divisão do treino em treino + validação\n",
    "X_train, X_val, y_train, y_val = train_test_split(X_train, y_train, test_size=0.2, random_state=42)\n",
    "\n",
    "# One-hot encoding\n",
    "y_train_cat = to_categorical(y_train, 10)\n",
    "y_val_cat = to_categorical(y_val, 10)\n",
    "y_test_cat = to_categorical(y_test, 10)\n"
   ]
  },
  {
   "cell_type": "markdown",
   "id": "d064ec06",
   "metadata": {},
   "source": [
    "✅ 2. Construção da Rede Neural Convolucional"
   ]
  },
  {
   "cell_type": "code",
   "execution_count": null,
   "id": "26326bc2",
   "metadata": {
    "vscode": {
     "languageId": "plaintext"
    }
   },
   "outputs": [],
   "source": [
    "from tensorflow.keras.models import Sequential\n",
    "from tensorflow.keras.layers import Conv2D, MaxPooling2D, Flatten, Dense, Dropout\n",
    "\n",
    "model = Sequential([\n",
    "    Conv2D(32, (3, 3), activation='relu', input_shape=(28, 28, 1)),\n",
    "    MaxPooling2D((2, 2)),\n",
    "    Dropout(0.25),\n",
    "    \n",
    "    Conv2D(64, (3, 3), activation='relu'),\n",
    "    MaxPooling2D((2, 2)),\n",
    "    Dropout(0.25),\n",
    "\n",
    "    Flatten(),\n",
    "    Dense(128, activation='relu'),\n",
    "    Dropout(0.5),\n",
    "    Dense(10, activation='softmax')\n",
    "])\n",
    "\n",
    "model.compile(optimizer='adam',\n",
    "              loss='categorical_crossentropy',\n",
    "              metrics=['accuracy'])\n",
    "\n",
    "model.summary()\n"
   ]
  },
  {
   "cell_type": "markdown",
   "id": "4a12d12b",
   "metadata": {},
   "source": [
    "✅ 3. Treinamento e Curvas de Aprendizado"
   ]
  },
  {
   "cell_type": "code",
   "execution_count": null,
   "id": "7cc67c45",
   "metadata": {
    "vscode": {
     "languageId": "plaintext"
    }
   },
   "outputs": [],
   "source": [
    "history = model.fit(X_train, y_train_cat,\n",
    "                    validation_data=(X_val, y_val_cat),\n",
    "                    epochs=10,\n",
    "                    batch_size=128)\n"
   ]
  },
  {
   "cell_type": "markdown",
   "id": "f921097b",
   "metadata": {},
   "source": [
    "✅ 4. Avaliação no Conjunto de Teste"
   ]
  },
  {
   "cell_type": "code",
   "execution_count": null,
   "id": "0b526919",
   "metadata": {
    "vscode": {
     "languageId": "plaintext"
    }
   },
   "outputs": [],
   "source": [
    "test_loss, test_acc = model.evaluate(X_test, y_test_cat, verbose=0)\n",
    "print(f\"Acurácia no conjunto de teste: {test_acc:.4f}\")\n"
   ]
  },
  {
   "cell_type": "markdown",
   "id": "8cc2bb0b",
   "metadata": {},
   "source": [
    "✅ 5. Gráficos de Curvas de Aprendizado"
   ]
  },
  {
   "cell_type": "code",
   "execution_count": null,
   "id": "054ddc17",
   "metadata": {
    "vscode": {
     "languageId": "plaintext"
    }
   },
   "outputs": [],
   "source": [
    "# Acurácia\n",
    "plt.plot(history.history['accuracy'], label='Treinamento')\n",
    "plt.plot(history.history['val_accuracy'], label='Validação')\n",
    "plt.title('Acurácia durante o treinamento')\n",
    "plt.xlabel('Épocas')\n",
    "plt.ylabel('Acurácia')\n",
    "plt.legend()\n",
    "plt.grid(True)\n",
    "plt.show()\n",
    "\n",
    "# Loss\n",
    "plt.plot(history.history['loss'], label='Treinamento')\n",
    "plt.plot(history.history['val_loss'], label='Validação')\n",
    "plt.title('Loss durante o treinamento')\n",
    "plt.xlabel('Épocas')\n",
    "plt.ylabel('Loss')\n",
    "plt.legend()\n",
    "plt.grid(True)\n",
    "plt.show()\n"
   ]
  }
 ],
 "metadata": {
  "language_info": {
   "name": "python"
  }
 },
 "nbformat": 4,
 "nbformat_minor": 5
}
