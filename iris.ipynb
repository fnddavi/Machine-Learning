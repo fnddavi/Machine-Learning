{
 "cells": [
  {
   "cell_type": "code",
   "execution_count": null,
   "id": "c1eb0c1f",
   "metadata": {},
   "outputs": [],
   "source": [
    "pip install ucimlrepo"
   ]
  },
  {
   "cell_type": "code",
   "execution_count": null,
   "id": "9a2377a0",
   "metadata": {},
   "outputs": [],
   "source": [
    "pip install pandas matplotlib numpy"
   ]
  },
  {
   "cell_type": "code",
   "execution_count": null,
   "id": "d3ce8138",
   "metadata": {},
   "outputs": [],
   "source": [
    "from ucimlrepo import fetch_ucirepo \n",
    "  \n",
    "# fetch dataset \n",
    "iris = fetch_ucirepo(id=53) \n",
    "  \n",
    "# data (as pandas dataframes) \n",
    "X = iris.data.features \n",
    "y = iris.data.targets \n",
    "  \n",
    "# metadata \n",
    "print(iris.metadata) \n",
    "  \n",
    "# variable information \n",
    "print(iris.variables) \n"
   ]
  },
  {
   "cell_type": "code",
   "execution_count": null,
   "id": "19c7ec1e",
   "metadata": {},
   "outputs": [],
   "source": [
    "import pandas as pd\n",
    "import numpy as np\n",
    "import matplotlib.pyplot as plt\n",
    "from ucimlrepo import fetch_ucirepo\n",
    "\n",
    "# 1. Carregar o dataset Iris\n",
    "iris = fetch_ucirepo(id=53)\n",
    "df = iris.data.original.copy()\n"
   ]
  },
  {
   "cell_type": "code",
   "execution_count": null,
   "id": "8d91fe0b",
   "metadata": {},
   "outputs": [],
   "source": [
    "\n",
    "# 2. Verificar as primeiras linhas\n",
    "print(\"Primeiras linhas:\")\n",
    "print(df.head())\n",
    "\n",
    "# 3. Calcular média e mediana\n",
    "mean_values = df.mean(numeric_only=True)\n",
    "median_values = df.median(numeric_only=True)\n",
    "\n",
    "print(\"\\nMédias:\")\n",
    "print(mean_values)\n",
    "\n",
    "print(\"\\nMedianas:\")\n",
    "print(median_values)\n"
   ]
  },
  {
   "cell_type": "code",
   "execution_count": null,
   "id": "4b7c72bd",
   "metadata": {},
   "outputs": [],
   "source": [
    "\n",
    "# 4. Plotar Boxplots\n",
    "df.plot(kind='box', figsize=(10, 6), title='Boxplot - Atributos do Iris Dataset')\n",
    "plt.grid(True)\n",
    "plt.tight_layout()\n",
    "plt.show()\n"
   ]
  },
  {
   "cell_type": "code",
   "execution_count": null,
   "id": "4951e8bd",
   "metadata": {},
   "outputs": [],
   "source": [
    "\n",
    "# 5. Plotar Histogramas\n",
    "df.hist(figsize=(10, 8), bins=15, edgecolor='black')\n",
    "plt.suptitle(\"Histogramas - Atributos do Iris Dataset\", fontsize=16)\n",
    "plt.tight_layout()\n",
    "plt.show()\n"
   ]
  }
 ],
 "metadata": {
  "kernelspec": {
   "display_name": ".venv",
   "language": "python",
   "name": "python3"
  },
  "language_info": {
   "codemirror_mode": {
    "name": "ipython",
    "version": 3
   },
   "file_extension": ".py",
   "mimetype": "text/x-python",
   "name": "python",
   "nbconvert_exporter": "python",
   "pygments_lexer": "ipython3",
   "version": "3.12.3"
  }
 },
 "nbformat": 4,
 "nbformat_minor": 5
}
