{
  "nbformat": 4,
  "nbformat_minor": 0,
  "metadata": {
    "colab": {
      "provenance": []
    },
    "kernelspec": {
      "name": "python3",
      "display_name": "Python 3"
    },
    "language_info": {
      "name": "python"
    }
  },
  "cells": [
    {
      "cell_type": "code",
      "execution_count": null,
      "metadata": {
        "colab": {
          "base_uri": "https://localhost:8080/",
          "height": 406
        },
        "id": "e2F3G6mo8NGI",
        "outputId": "0062d68f-b27e-4060-e769-89ee383b393f"
      },
      "outputs": [
        {
          "output_type": "display_data",
          "data": {
            "text/plain": [
              "<Figure size 640x480 with 1 Axes>"
            ],
            "image/png": "[encoded data removed]"
          },
          "metadata": {}
        }
      ],
      "source": [
        "from sklearn.datasets import fetch_openml\n",
        "import matplotlib.pyplot as plt\n",
        "\n",
        "# Carregar dados MNIST\n",
        "mnist = fetch_openml('mnist_784', version=1, as_frame=False)\n",
        "X, y = mnist[\"data\"], mnist[\"target\"]\n",
        "\n",
        "# Visualizar um dígito\n",
        "algum_digito = X[0]\n",
        "algum_digito_imagem = algum_digito.reshape(28, 28)\n",
        "\n",
        "plt.imshow(algum_digito_imagem, cmap='binary')\n",
        "plt.axis('off')\n",
        "plt.show()"
      ]
    },
    {
      "cell_type": "code",
      "source": [
        "import numpy as np\n",
        "y = y.astype (np.uint8)\n",
        "\n",
        "X_train, X_test, y_train, y_test = X[:60000], X[60000:], y[:60000], y[60000:]\n",
        "X_train.shape"
      ],
      "metadata": {
        "colab": {
          "base_uri": "https://localhost:8080/"
        },
        "id": "zO0i8jjg8SHL",
        "outputId": "4e3627aa-faa5-4922-aae7-d4cecc1c5a74"
      },
      "execution_count": null,
      "outputs": [
        {
          "output_type": "execute_result",
          "data": {
            "text/plain": [
              "(60000, 784)"
            ]
          },
          "metadata": {},
          "execution_count": 2
        }
      ]
    },
    {
      "cell_type": "code",
      "source": [
        "y_train_5 = (y_train == 5)\n",
        "y_test_5 = (y_test == 5)y_train_5 = (y_train == 5)\n",
        "y_test_5 = (y_test == 5)"
      ],
      "metadata": {
        "id": "N_TZ4Zda88it"
      },
      "execution_count": null,
      "outputs": []
    },
    {
      "cell_type": "code",
      "source": [
        "from sklearn.linear_model import  SGDClassifier\n",
        "sgd_clf = SGDClassifier(random_state=42)\n",
        "sgd_clf.fit(X_train, y_train_5)\n",
        "sgd_clf.predict([algum_digito])"
      ],
      "metadata": {
        "id": "Prq97dtR9WKn",
        "colab": {
          "base_uri": "https://localhost:8080/"
        },
        "outputId": "a6cf4b8c-ad82-4a41-939b-0d718b6bfff5"
      },
      "execution_count": null,
      "outputs": [
        {
          "output_type": "execute_result",
          "data": {
            "text/plain": [
              "array([ True])"
            ]
          },
          "metadata": {},
          "execution_count": 7
        }
      ]
    },
    {
      "cell_type": "code",
      "source": [
        "y_pred = sgd_clf.predict(X_test)\n",
        "n_correct = sum(y_test_5 == y_pred)\n",
        "print(n_correct / len(y_pred))"
      ],
      "metadata": {
        "id": "iHM1XW4V-osj",
        "colab": {
          "base_uri": "https://localhost:8080/"
        },
        "outputId": "1a626666-705d-40ff-b281-bee8160c7a44"
      },
      "execution_count": null,
      "outputs": [
        {
          "output_type": "stream",
          "name": "stdout",
          "text": [
            "0.9492\n"
          ]
        }
      ]
    },
    {
      "cell_type": "code",
      "source": [
        "y_train_pred = sgd_clf.predict(X_train)\n",
        "\n",
        "from sklearn.metrics import confusion_matrix\n",
        "confusion_matrix(y_train_5, y_train_pred)"
      ],
      "metadata": {
        "id": "KGySANqnAGjK",
        "colab": {
          "base_uri": "https://localhost:8080/"
        },
        "outputId": "a85d2448-50ec-4cd0-9f02-89b274848167"
      },
      "execution_count": null,
      "outputs": [
        {
          "output_type": "execute_result",
          "data": {
            "text/plain": [
              "array([[52316,  2263],\n",
              "       [  601,  4820]])"
            ]
          },
          "metadata": {},
          "execution_count": 9
        }
      ]
    }
  ]
}