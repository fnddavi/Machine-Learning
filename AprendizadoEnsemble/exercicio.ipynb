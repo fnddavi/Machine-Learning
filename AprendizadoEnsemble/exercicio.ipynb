{
 "cells": [
  {
   "cell_type": "markdown",
   "id": "3f53fc25",
   "metadata": {},
   "source": [
    "1. Configuração Inicial e Carregamento dos Dados"
   ]
  },
  {
   "cell_type": "code",
   "execution_count": 1,
   "id": "b60246fd",
   "metadata": {},
   "outputs": [
    {
     "name": "stdout",
     "output_type": "stream",
     "text": [
      "Carregando o conjunto de dados MNIST...\n",
      "Normalizando os dados...\n",
      "Dividindo os dados em treinamento e teste...\n",
      "Tamanho do conjunto de treinamento: 56000 amostras\n",
      "Tamanho do conjunto de teste: 14000 amostras\n"
     ]
    }
   ],
   "source": [
    "# Célula 1: Configuração Inicial e Carregamento dos Dados\n",
    "\n",
    "import numpy as np\n",
    "from sklearn.datasets import fetch_openml\n",
    "from sklearn.model_selection import train_test_split\n",
    "from sklearn.ensemble import RandomForestClassifier, VotingClassifier, AdaBoostClassifier, BaggingClassifier\n",
    "from sklearn.svm import SVC\n",
    "from sklearn.metrics import accuracy_score\n",
    "from sklearn.preprocessing import StandardScaler\n",
    "\n",
    "print(\"Carregando o conjunto de dados MNIST...\")\n",
    "# Carregar o conjunto de dados MNIST\n",
    "# as_frame=False para obter um array NumPy, geralmente mais fácil para dados de imagem\n",
    "mnist = fetch_openml('mnist_784', version=1, as_frame=False, parser='auto')\n",
    "X, y = mnist.data, mnist.target\n",
    "\n",
    "# Normalizar os dados\n",
    "print(\"Normalizando os dados...\")\n",
    "scaler = StandardScaler()\n",
    "X = scaler.fit_transform(X)\n",
    "\n",
    "# Dividir o conjunto de dados em treinamento e teste\n",
    "print(\"Dividindo os dados em treinamento e teste...\")\n",
    "X_train, X_test, y_train, y_test = train_test_split(X, y, test_size=0.2, random_state=42)\n",
    "\n",
    "print(f\"Tamanho do conjunto de treinamento: {X_train.shape[0]} amostras\")\n",
    "print(f\"Tamanho do conjunto de teste: {X_test.shape[0]} amostras\")"
   ]
  },
  {
   "cell_type": "markdown",
   "id": "103da2e8",
   "metadata": {},
   "source": [
    "2. Treinamento de Classificadores Individuais"
   ]
  },
  {
   "cell_type": "code",
   "execution_count": null,
   "id": "f300048a",
   "metadata": {},
   "outputs": [],
   "source": [
    "# Célula 2: Treinamento de Classificadores Individuais\n",
    "\n",
    "# Treinando Floresta Aleatória\n",
    "print(\"\\nTreinando o classificador Floresta Aleatória...\")\n",
    "rnd_clf = RandomForestClassifier(n_estimators=100, random_state=42, n_jobs=-1)\n",
    "rnd_clf.fit(X_train, y_train)\n",
    "rnd_pred = rnd_clf.predict(X_test)\n",
    "rnd_accuracy = accuracy_score(y_test, rnd_pred)\n",
    "print(f\"Acurácia da Floresta Aleatória: {rnd_accuracy:.4f}\")\n",
    "\n",
    "# Treinando SVM\n",
    "print(\"\\nTreinando o classificador SVM (pode levar alguns minutos)...\")\n",
    "# probability=True é necessário para o VotingClassifier usar 'soft' voting\n",
    "svm_clf = SVC(probability=True, random_state=42)\n",
    "svm_clf.fit(X_train, y_train)\n",
    "svm_pred = svm_clf.predict(X_test)\n",
    "svm_accuracy = accuracy_score(y_test, svm_pred)\n",
    "print(f\"Acurácia do SVM: {svm_accuracy:.4f}\")"
   ]
  },
  {
   "cell_type": "markdown",
   "id": "abf4359c",
   "metadata": {},
   "source": [
    "3. Combinando Classificadores com Votação (Voting Classifier)"
   ]
  },
  {
   "cell_type": "code",
   "execution_count": null,
   "id": "af18d2a1",
   "metadata": {},
   "outputs": [],
   "source": [
    "# Célula 3: Combinando Classificadores com Votação (Voting Classifier)\n",
    "\n",
    "print(\"\\nCombinando classificadores com Votação (Voting Classifier)...\")\n",
    "voting_clf = VotingClassifier(\n",
    "    estimators=[('rf', rnd_clf), ('svm', svm_clf)],\n",
    "    voting='soft',\n",
    "    n_jobs=-1\n",
    ")\n",
    "voting_clf.fit(X_train, y_train)\n",
    "voting_pred = voting_clf.predict(X_test)\n",
    "voting_accuracy = accuracy_score(y_test, voting_pred)\n",
    "print(f\"Acurácia do Voting Classifier (soft voting): {voting_accuracy:.4f}\")"
   ]
  },
  {
   "cell_type": "markdown",
   "id": "01844c27",
   "metadata": {},
   "source": [
    "4. Combinando Classificadores com AdaBoost"
   ]
  },
  {
   "cell_type": "code",
   "execution_count": null,
   "id": "43fd28fb",
   "metadata": {},
   "outputs": [],
   "source": [
    "# Célula 4: Combinando Classificadores com AdaBoost\n",
    "\n",
    "print(\"\\nCombinando classificadores com AdaBoost (pode levar algum tempo)...\")\n",
    "ada_clf = AdaBoostClassifier(n_estimators=100, random_state=42)\n",
    "ada_clf.fit(X_train, y_train)\n",
    "ada_pred = ada_clf.predict(X_test)\n",
    "ada_accuracy = accuracy_score(y_test, ada_pred)\n",
    "print(f\"Acurácia do AdaBoost Classifier: {ada_accuracy:.4f}\")"
   ]
  },
  {
   "cell_type": "markdown",
   "id": "2ce4d69d",
   "metadata": {},
   "source": [
    "5. Combinando Classificadores com Bagging"
   ]
  },
  {
   "cell_type": "code",
   "execution_count": null,
   "id": "c0e11559",
   "metadata": {},
   "outputs": [],
   "source": [
    "# Célula 5: Combinando Classificadores com Bagging\n",
    "\n",
    "print(\"\\nCombinando classificadores com Bagging...\")\n",
    "bag_clf_rf = BaggingClassifier(\n",
    "    rnd_clf, n_estimators=100, max_samples=1.0, bootstrap=True, random_state=42, n_jobs=-1\n",
    ")\n",
    "bag_clf_rf.fit(X_train, y_train)\n",
    "bag_rf_pred = bag_clf_rf.predict(X_test)\n",
    "bag_rf_accuracy = accuracy_score(y_test, bag_rf_pred)\n",
    "print(f\"Acurácia do Bagging Classifier (com Floresta Aleatória): {bag_rf_accuracy:.4f}\")"
   ]
  },
  {
   "cell_type": "markdown",
   "id": "6f56031f",
   "metadata": {},
   "source": [
    "6. Comparação Final dos Resultados"
   ]
  },
  {
   "cell_type": "code",
   "execution_count": null,
   "id": "f2448c5e",
   "metadata": {},
   "outputs": [],
   "source": [
    "# Célula 6: Comparação Final dos Resultados\n",
    "\n",
    "print(\"\\n--- Resultados Finais ---\")\n",
    "print(f\"Acurácia da Floresta Aleatória (Individual): {rnd_accuracy:.4f}\")\n",
    "print(f\"Acurácia do SVM (Individual): {svm_accuracy:.4f}\")\n",
    "print(f\"Acurácia do Voting Classifier (soft voting): {voting_accuracy:.4f}\")\n",
    "print(f\"Acurácia do AdaBoost Classifier: {ada_accuracy:.4f}\")\n",
    "print(f\"Acurácia do Bagging Classifier (com Floresta Aleatória): {bag_rf_accuracy:.4f}\")"
   ]
  }
 ],
 "metadata": {
  "kernelspec": {
   "display_name": ".venv",
   "language": "python",
   "name": "python3"
  },
  "language_info": {
   "codemirror_mode": {
    "name": "ipython",
    "version": 3
   },
   "file_extension": ".py",
   "mimetype": "text/x-python",
   "name": "python",
   "nbconvert_exporter": "python",
   "pygments_lexer": "ipython3",
   "version": "3.12.3"
  }
 },
 "nbformat": 4,
 "nbformat_minor": 5
}
